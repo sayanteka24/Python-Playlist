{
  "nbformat": 4,
  "nbformat_minor": 0,
  "metadata": {
    "colab": {
      "provenance": []
    },
    "kernelspec": {
      "name": "python3",
      "display_name": "Python 3"
    },
    "language_info": {
      "name": "python"
    }
  },
  "cells": [
    {
      "cell_type": "markdown",
      "source": [
        "**Identify Types of List**"
      ],
      "metadata": {
        "id": "R5vMnMGb4ei3"
      }
    },
    {
      "cell_type": "code",
      "source": [
        "a=[3,4,7,9] #1D list\n",
        "b=[[3,4],6,[7,9,8]] #nested list\n",
        "c=[[1,2,3,8],[6,1,9,3],[7,0,5,1]] #2D list\n",
        "d = [[[1, 2, 3], [4, 5, 6]], [[7, 8, 9], [10, 11, 12]], [[13, 14, 15], [16, 17, 18]]] #3D List\n"
      ],
      "metadata": {
        "id": "PHIExBJyxKEu"
      },
      "execution_count": null,
      "outputs": []
    },
    {
      "cell_type": "markdown",
      "source": [
        "Identify no of rows and cols in 2D List"
      ],
      "metadata": {
        "id": "tUFfFumQw0_R"
      }
    },
    {
      "cell_type": "code",
      "source": [
        "c=[[1,2,3,8],[6,1,9,3],[7,0,5,1]]\n",
        "#no of rows=no of sublist=3\n",
        "#no of cols=no of elements in each sublist=4\n",
        "1238\n",
        "6193\n",
        "7051\n",
        "\n",
        "#find the position of 6th element\n",
        "#6th element=1\n",
        "#6th element is located at 2nd row and 2nd col\n",
        "#we know indexing in row starts from 0,1,2,3 and so on\n",
        "#In column indexing starts from 0,1,2,3 ,4 ,5 and so on\n",
        "#sixth_element=c['index of row']['index of col']\n",
        "sixth_element=c[1][1]\n",
        "print(sixth_element)\n",
        "\n",
        "\n",
        "#find the position of 7th element\n",
        "#7th element=9\n",
        "#7th element is located at 2nd row and 3rd col\n",
        "seventh_element=c[1][2]\n",
        "print(seventh_element)"
      ],
      "metadata": {
        "colab": {
          "base_uri": "https://localhost:8080/"
        },
        "id": "JmWL1o17w_RW",
        "outputId": "bd515f65-6345-4ae0-cad2-7b4a61fdce94"
      },
      "execution_count": null,
      "outputs": [
        {
          "output_type": "stream",
          "name": "stdout",
          "text": [
            "1\n",
            "9\n"
          ]
        }
      ]
    }
  ]
}