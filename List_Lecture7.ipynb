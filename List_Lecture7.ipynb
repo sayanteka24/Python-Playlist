{
  "nbformat": 4,
  "nbformat_minor": 0,
  "metadata": {
    "colab": {
      "provenance": []
    },
    "kernelspec": {
      "name": "python3",
      "display_name": "Python 3"
    },
    "language_info": {
      "name": "python"
    }
  },
  "cells": [
    {
      "cell_type": "markdown",
      "source": [
        "**For Loop in List**"
      ],
      "metadata": {
        "id": "KaR3eZkdxoWY"
      }
    },
    {
      "cell_type": "code",
      "source": [
        "a=[3,4,6,7]\n",
        "for item in a: #no of times for loop will run=length of the list\n",
        "    print(item)"
      ],
      "metadata": {
        "colab": {
          "base_uri": "https://localhost:8080/"
        },
        "id": "OJUAgNSOLL6T",
        "outputId": "6f0cc830-b34d-4d6f-e712-ab0e0f24d7dd"
      },
      "execution_count": 4,
      "outputs": [
        {
          "output_type": "stream",
          "name": "stdout",
          "text": [
            "3\n",
            "4\n",
            "6\n",
            "7\n"
          ]
        }
      ]
    },
    {
      "cell_type": "code",
      "source": [
        "a=[3,4,6,7]\n",
        "for item in a:\n",
        "     s=item+5\n",
        "     print(s)\n",
        "\n",
        "print(item)"
      ],
      "metadata": {
        "colab": {
          "base_uri": "https://localhost:8080/"
        },
        "id": "fYujDB8RJo8R",
        "outputId": "8cdf2d85-b05c-46a6-bf2a-0eb38aad7dc1"
      },
      "execution_count": 6,
      "outputs": [
        {
          "output_type": "stream",
          "name": "stdout",
          "text": [
            "8\n",
            "9\n",
            "11\n",
            "12\n",
            "7\n"
          ]
        }
      ]
    },
    {
      "cell_type": "markdown",
      "source": [
        "**For Loop in List  range function**\n",
        "\n",
        "**Range function takes 3 parameters i.e. Start index, End index,Jump size**\n"
      ],
      "metadata": {
        "id": "WAevPop2sB07"
      }
    },
    {
      "cell_type": "code",
      "source": [
        "a=[3,4,6,7]\n",
        "for i in range(0,4,1):\n",
        "    print(a[i])"
      ],
      "metadata": {
        "colab": {
          "base_uri": "https://localhost:8080/"
        },
        "id": "xnPD1sZho3MU",
        "outputId": "a9f50990-2afa-46ca-f079-cea22d93f28c"
      },
      "execution_count": 13,
      "outputs": [
        {
          "output_type": "stream",
          "name": "stdout",
          "text": [
            "3\n",
            "4\n",
            "6\n",
            "7\n"
          ]
        }
      ]
    },
    {
      "cell_type": "code",
      "source": [
        "a=[3,4,6,7]\n",
        "for i in range(0,4,2):\n",
        "    print(a[i])"
      ],
      "metadata": {
        "colab": {
          "base_uri": "https://localhost:8080/"
        },
        "id": "6P_so5XpnvTa",
        "outputId": "993985f1-b020-4a62-a89e-ce4026cfea42"
      },
      "execution_count": 14,
      "outputs": [
        {
          "output_type": "stream",
          "name": "stdout",
          "text": [
            "3\n",
            "6\n"
          ]
        }
      ]
    },
    {
      "cell_type": "code",
      "source": [
        "a=[3,4,6,7]\n",
        "for i in range(1,4):\n",
        "    print(a[i])"
      ],
      "metadata": {
        "colab": {
          "base_uri": "https://localhost:8080/"
        },
        "id": "NrV0gFP7qnNR",
        "outputId": "c6fb8648-4e76-47b3-c85a-86ed46ab4d41"
      },
      "execution_count": 15,
      "outputs": [
        {
          "output_type": "stream",
          "name": "stdout",
          "text": [
            "4\n",
            "6\n",
            "7\n"
          ]
        }
      ]
    },
    {
      "cell_type": "code",
      "source": [
        "a=[3,4,6,7]\n",
        "for i in range(1,3):\n",
        "    print(a[i])"
      ],
      "metadata": {
        "colab": {
          "base_uri": "https://localhost:8080/"
        },
        "id": "LS8668nZq0sN",
        "outputId": "c075994b-bb0b-4f91-c4f2-732f67362aae"
      },
      "execution_count": 16,
      "outputs": [
        {
          "output_type": "stream",
          "name": "stdout",
          "text": [
            "4\n",
            "6\n"
          ]
        }
      ]
    }
  ]
}