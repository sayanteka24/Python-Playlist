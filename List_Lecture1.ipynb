{
  "nbformat": 4,
  "nbformat_minor": 0,
  "metadata": {
    "colab": {
      "provenance": []
    },
    "kernelspec": {
      "name": "python3",
      "display_name": "Python 3"
    },
    "language_info": {
      "name": "python"
    }
  },
  "cells": [
    {
      "cell_type": "markdown",
      "source": [
        "**Data Structures in Python : List, Dictionary, Tuple, Set, String**"
      ],
      "metadata": {
        "id": "p4r9Ukx3yMfH"
      }
    },
    {
      "cell_type": "markdown",
      "source": [
        "**How to declare list ?**"
      ],
      "metadata": {
        "id": "R5vMnMGb4ei3"
      }
    },
    {
      "cell_type": "code",
      "source": [
        "a=[]\n",
        "print(type(a))"
      ],
      "metadata": {
        "colab": {
          "base_uri": "https://localhost:8080/"
        },
        "id": "YIbLwmSD0Z1n",
        "outputId": "afabbf04-0718-41c6-c0b2-c5075e53b36b"
      },
      "execution_count": null,
      "outputs": [
        {
          "output_type": "stream",
          "name": "stdout",
          "text": [
            "<class 'list'>\n"
          ]
        }
      ]
    },
    {
      "cell_type": "code",
      "source": [
        "b=list()\n",
        "print(type(b))"
      ],
      "metadata": {
        "colab": {
          "base_uri": "https://localhost:8080/"
        },
        "id": "fPaRIwdx0_z0",
        "outputId": "c5f32edd-93c9-489e-ad0c-8bc4dfe78292"
      },
      "execution_count": null,
      "outputs": [
        {
          "output_type": "stream",
          "name": "stdout",
          "text": [
            "<class 'list'>\n"
          ]
        }
      ]
    },
    {
      "cell_type": "code",
      "source": [
        "c=[2,3,4,5]\n",
        "print(type(c))"
      ],
      "metadata": {
        "colab": {
          "base_uri": "https://localhost:8080/"
        },
        "id": "pIjvbffA1Cy-",
        "outputId": "576eca85-ad3b-4e92-95c3-63018a30fa14"
      },
      "execution_count": null,
      "outputs": [
        {
          "output_type": "stream",
          "name": "stdout",
          "text": [
            "<class 'list'>\n"
          ]
        }
      ]
    },
    {
      "cell_type": "code",
      "source": [
        "d=[2,3,[4,6]] #nested list\n",
        "print(type(d))"
      ],
      "metadata": {
        "colab": {
          "base_uri": "https://localhost:8080/"
        },
        "id": "zk5QhejU1F4S",
        "outputId": "ac4e6ae4-432b-40f4-d2d9-da1e575d65b2"
      },
      "execution_count": null,
      "outputs": [
        {
          "output_type": "stream",
          "name": "stdout",
          "text": [
            "<class 'list'>\n"
          ]
        }
      ]
    },
    {
      "cell_type": "markdown",
      "source": [
        "**List Indexing**"
      ],
      "metadata": {
        "id": "RxkbV75D2-O-"
      }
    },
    {
      "cell_type": "code",
      "source": [
        "#Indexing: It is used to find the index/position of element in the list\n",
        "a=[3,6,8]\n",
        "second_element=a[1] #access 2nd element in a list\n",
        "print(second_element)\n",
        "#3 is at 0th index ,6 is at 1st index ,8 is at 2nd index      accessing elemnet in forward direction\n",
        "#8 is at -1 index ,6 is at -2 index ,3 is at -3 index         accessing element in backward direction\n",
        "\n",
        "second_element_backward=a[-2]\n",
        "print(second_element_backward)\n"
      ],
      "metadata": {
        "colab": {
          "base_uri": "https://localhost:8080/"
        },
        "id": "8RQ1U33Y26qI",
        "outputId": "db33e978-3d45-42e0-d5b2-206499af065b"
      },
      "execution_count": 1,
      "outputs": [
        {
          "output_type": "stream",
          "name": "stdout",
          "text": [
            "6\n",
            "6\n"
          ]
        }
      ]
    }
  ]
}