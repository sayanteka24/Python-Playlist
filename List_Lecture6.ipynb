{
  "nbformat": 4,
  "nbformat_minor": 0,
  "metadata": {
    "colab": {
      "provenance": []
    },
    "kernelspec": {
      "name": "python3",
      "display_name": "Python 3"
    },
    "language_info": {
      "name": "python"
    }
  },
  "cells": [
    {
      "cell_type": "markdown",
      "source": [
        "Slice first 3 elements of the list using +ve indexing"
      ],
      "metadata": {
        "id": "dghaCC7zp45j"
      }
    },
    {
      "cell_type": "code",
      "source": [
        "#index position of elements\n",
        "#6=0\n",
        "#3=1\n",
        "#9=2\n",
        "#63=3\n",
        "#36=4\n",
        "#99=5\n",
        "\n",
        "list_1=[6,3,9,63,36,99]\n",
        "#output=[6,3,9]\n",
        "print(list_1[0:3:1])\n",
        "\n",
        "\n"
      ],
      "metadata": {
        "colab": {
          "base_uri": "https://localhost:8080/"
        },
        "id": "YsIyZwILjq87",
        "outputId": "f2b5e72f-1778-494c-cb74-a73a3219a0e6"
      },
      "execution_count": null,
      "outputs": [
        {
          "output_type": "stream",
          "name": "stdout",
          "text": [
            "[6, 3, 9]\n"
          ]
        }
      ]
    },
    {
      "cell_type": "markdown",
      "source": [
        "Slice first 3 elements of the list using -ve indexing"
      ],
      "metadata": {
        "id": "hSYTJDCfhma3"
      }
    },
    {
      "cell_type": "code",
      "source": [
        "#index position of elements\n",
        "#6=-6\n",
        "#3=-5\n",
        "#9=-4\n",
        "#63=-3\n",
        "#36=-2\n",
        "#99=-1\n",
        "\n",
        "list_2=[6,3,9,63,36,99]\n",
        "#output=[6,3,9]\n",
        "\n",
        "print(list_2[-6:-3:1])\n"
      ],
      "metadata": {
        "colab": {
          "base_uri": "https://localhost:8080/"
        },
        "id": "wIxrbxhBnzRI",
        "outputId": "3840941f-1033-435f-bb3e-e044ccb1543f"
      },
      "execution_count": null,
      "outputs": [
        {
          "output_type": "stream",
          "name": "stdout",
          "text": [
            "[6, 3, 9]\n"
          ]
        }
      ]
    },
    {
      "cell_type": "markdown",
      "source": [
        "Slice last 3 elements of the list using +ve indexing in reverse order"
      ],
      "metadata": {
        "id": "2aTfdsAWn78Y"
      }
    },
    {
      "cell_type": "code",
      "source": [
        "#index position of elements\n",
        "#6=0\n",
        "#3=1\n",
        "#9=2\n",
        "#63=3\n",
        "#36=4\n",
        "#99=5\n",
        "\n",
        "list_3=[6,3,9,63,36,99]\n",
        "#output=[99,36,63]\n",
        "print(list_3[5:2:-1])\n"
      ],
      "metadata": {
        "colab": {
          "base_uri": "https://localhost:8080/"
        },
        "id": "uaNBai7ZoTrA",
        "outputId": "4b3c73cc-10a7-440e-a3d8-0758fbd2256f"
      },
      "execution_count": null,
      "outputs": [
        {
          "output_type": "stream",
          "name": "stdout",
          "text": [
            "[99, 36, 63]\n"
          ]
        }
      ]
    },
    {
      "cell_type": "markdown",
      "source": [
        "Slice last 3 elements of the list using -ve indexing in reverse order"
      ],
      "metadata": {
        "id": "HIun7S7GpB2r"
      }
    },
    {
      "cell_type": "code",
      "source": [
        "#index position of elements\n",
        "#6=-6\n",
        "#3=-5\n",
        "#9=-4\n",
        "#63=-3\n",
        "#36=-2\n",
        "#99=-1\n",
        "\n",
        "list_4=[6,3,9,63,36,99]\n",
        "#output=[99,36,63]\n",
        "print(list_4[-1:-4:-1])\n"
      ],
      "metadata": {
        "colab": {
          "base_uri": "https://localhost:8080/"
        },
        "id": "ky7S8fjqpnAH",
        "outputId": "5bd2dd22-6192-4e0b-d599-9a39a7dc9c94"
      },
      "execution_count": null,
      "outputs": [
        {
          "output_type": "stream",
          "name": "stdout",
          "text": [
            "[99, 36, 63]\n"
          ]
        }
      ]
    },
    {
      "cell_type": "code",
      "source": [
        "#Additional Question\n",
        "#output=[99,63,3]\n",
        "print(list_4[-1:-6:-2])"
      ],
      "metadata": {
        "colab": {
          "base_uri": "https://localhost:8080/"
        },
        "id": "kXCF8__BqjO0",
        "outputId": "8acfb3cc-7a33-4f87-cc6d-2527fa9ebbaf"
      },
      "execution_count": null,
      "outputs": [
        {
          "output_type": "stream",
          "name": "stdout",
          "text": [
            "[99, 63, 3]\n"
          ]
        }
      ]
    }
  ]
}