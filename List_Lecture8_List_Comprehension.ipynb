{
  "nbformat": 4,
  "nbformat_minor": 0,
  "metadata": {
    "colab": {
      "provenance": []
    },
    "kernelspec": {
      "name": "python3",
      "display_name": "Python 3"
    },
    "language_info": {
      "name": "python"
    }
  },
  "cells": [
    {
      "cell_type": "markdown",
      "source": [
        "**Print Squares of Numbers From 1 to 10**"
      ],
      "metadata": {
        "id": "IfxnPE62iCNN"
      }
    },
    {
      "cell_type": "code",
      "source": [
        "for x in range(1, 11):\n",
        "    print(x ** 2)"
      ],
      "metadata": {
        "id": "4dD0AuroinD5",
        "colab": {
          "base_uri": "https://localhost:8080/"
        },
        "outputId": "9aa26db7-5587-43c0-94eb-b41fd99f5e19"
      },
      "execution_count": 7,
      "outputs": [
        {
          "output_type": "stream",
          "name": "stdout",
          "text": [
            "1\n",
            "4\n",
            "9\n",
            "16\n",
            "25\n",
            "36\n",
            "49\n",
            "64\n",
            "81\n",
            "100\n"
          ]
        }
      ]
    },
    {
      "cell_type": "markdown",
      "source": [
        "**Print Squares of Numbers From 1 to 10 and store it in a variable**"
      ],
      "metadata": {
        "id": "LMd_j30Yiuv-"
      }
    },
    {
      "cell_type": "code",
      "source": [
        "squares = []\n",
        "for x in range(1, 11):\n",
        "    squares.append(x ** 2)\n",
        "print(squares)"
      ],
      "metadata": {
        "id": "Nq71LaOXjMkb",
        "colab": {
          "base_uri": "https://localhost:8080/"
        },
        "outputId": "5e605441-4ddc-4745-af61-45fb6a66c3b5"
      },
      "execution_count": 8,
      "outputs": [
        {
          "output_type": "stream",
          "name": "stdout",
          "text": [
            "[1, 4, 9, 16, 25, 36, 49, 64, 81, 100]\n"
          ]
        }
      ]
    },
    {
      "cell_type": "markdown",
      "source": [
        "**Repeat the same using list comprehension**\n"
      ],
      "metadata": {
        "id": "b5jVak6oqwiU"
      }
    },
    {
      "cell_type": "markdown",
      "source": [
        "**Benefit of using list comprehension: It tends to execute faster and use less memory compared to the equivalent for loop**"
      ],
      "metadata": {
        "id": "LnDvdEPquE_P"
      }
    },
    {
      "cell_type": "code",
      "source": [
        "squares = [x**2 for x in range(1, 11)]\n",
        "print(squares)\n"
      ],
      "metadata": {
        "id": "hZ2sXZ26jPr_"
      },
      "execution_count": null,
      "outputs": []
    },
    {
      "cell_type": "markdown",
      "source": [
        "**Why List Comprehension is Better Than ForLoop**"
      ],
      "metadata": {
        "id": "Ychd8N_9q3-p"
      }
    },
    {
      "cell_type": "code",
      "source": [
        "import tracemalloc\n",
        "\n",
        "\n",
        "tracemalloc.start()\n",
        "\n",
        "\n",
        "squares = []\n",
        "for x in range(1, 11):\n",
        "    squares.append(x ** 2)\n",
        "\n",
        "\n",
        "snapshot1 = tracemalloc.take_snapshot()\n",
        "\n",
        "\n",
        "squares = [x**2 for x in range(1, 11)]\n",
        "\n",
        "\n",
        "snapshot2 = tracemalloc.take_snapshot()\n",
        "\n",
        "\n",
        "stats = snapshot2.compare_to(snapshot1, 'lineno')\n",
        "\n",
        "\n",
        "total_difference = sum(stat.size_diff for stat in stats)\n",
        "print(\"Total memory difference:\", total_difference, \"bytes\")\n",
        "\n",
        "if total_difference < 0:\n",
        "    print(\"List comprehension version uses less memory.\")\n",
        "elif total_difference > 0:\n",
        "    print(\"Original version uses less memory.\")\n",
        "else:\n",
        "    print(\"Both versions use the same amount of memory.\")\n"
      ],
      "metadata": {
        "colab": {
          "base_uri": "https://localhost:8080/"
        },
        "id": "z3MQpTPyrNvl",
        "outputId": "de896a33-53db-47ef-fe1d-ad6515c9a301"
      },
      "execution_count": 9,
      "outputs": [
        {
          "output_type": "stream",
          "name": "stdout",
          "text": [
            "Total memory difference: -455999 bytes\n",
            "List comprehension version uses less memory.\n"
          ]
        }
      ]
    }
  ]
}