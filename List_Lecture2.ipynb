{
  "nbformat": 4,
  "nbformat_minor": 0,
  "metadata": {
    "colab": {
      "provenance": []
    },
    "kernelspec": {
      "name": "python3",
      "display_name": "Python 3"
    },
    "language_info": {
      "name": "python"
    }
  },
  "cells": [
    {
      "cell_type": "markdown",
      "source": [
        "**Indexing in Nested List**"
      ],
      "metadata": {
        "id": "R5vMnMGb4ei3"
      }
    },
    {
      "cell_type": "code",
      "source": [
        "a=[2,4,[3,9]]\n",
        "sub_list=a[2]\n",
        "print(sub_list)"
      ],
      "metadata": {
        "colab": {
          "base_uri": "https://localhost:8080/"
        },
        "id": "T45LFBEabbyY",
        "outputId": "0c5b9aa6-6807-4aac-9911-348c716fd6a5"
      },
      "execution_count": 4,
      "outputs": [
        {
          "output_type": "stream",
          "name": "stdout",
          "text": [
            "[3, 9]\n"
          ]
        }
      ]
    },
    {
      "cell_type": "code",
      "source": [
        "first_ele_sub_list=sub_list[0]\n",
        "print(first_ele_sub_list)"
      ],
      "metadata": {
        "colab": {
          "base_uri": "https://localhost:8080/"
        },
        "id": "p5C2Ry71cPpc",
        "outputId": "fba00b59-5c06-4527-e10a-dd55aa1bd53a"
      },
      "execution_count": 5,
      "outputs": [
        {
          "output_type": "stream",
          "name": "stdout",
          "text": [
            "3\n"
          ]
        }
      ]
    },
    {
      "cell_type": "code",
      "source": [
        "first_ele_sub_list_one_line=a[2][0]\n",
        "first_ele_sub_list_one_line\n"
      ],
      "metadata": {
        "colab": {
          "base_uri": "https://localhost:8080/"
        },
        "id": "eOslpDW6cf8S",
        "outputId": "b54800fa-5e2b-4a3f-9557-a4d6c29fc30f"
      },
      "execution_count": 6,
      "outputs": [
        {
          "output_type": "execute_result",
          "data": {
            "text/plain": [
              "3"
            ]
          },
          "metadata": {},
          "execution_count": 6
        }
      ]
    },
    {
      "cell_type": "code",
      "source": [
        "first_ele_sub_list_one_line_backward_dir=a[-1][-2]\n",
        "first_ele_sub_list_one_line_backward_dir"
      ],
      "metadata": {
        "colab": {
          "base_uri": "https://localhost:8080/"
        },
        "id": "_wEYX36Mc1nD",
        "outputId": "71e1c5f8-8b33-402c-b5a9-3d3119b1a09f"
      },
      "execution_count": 7,
      "outputs": [
        {
          "output_type": "execute_result",
          "data": {
            "text/plain": [
              "3"
            ]
          },
          "metadata": {},
          "execution_count": 7
        }
      ]
    }
  ]
}